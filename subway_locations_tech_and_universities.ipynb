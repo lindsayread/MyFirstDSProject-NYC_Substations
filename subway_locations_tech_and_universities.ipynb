{
 "cells": [
  {
   "cell_type": "code",
   "execution_count": 1,
   "metadata": {},
   "outputs": [
    {
     "data": {
      "text/html": [
       "<div>\n",
       "<style scoped>\n",
       "    .dataframe tbody tr th:only-of-type {\n",
       "        vertical-align: middle;\n",
       "    }\n",
       "\n",
       "    .dataframe tbody tr th {\n",
       "        vertical-align: top;\n",
       "    }\n",
       "\n",
       "    .dataframe thead th {\n",
       "        text-align: right;\n",
       "    }\n",
       "</style>\n",
       "<table border=\"1\" class=\"dataframe\">\n",
       "  <thead>\n",
       "    <tr style=\"text-align: right;\">\n",
       "      <th></th>\n",
       "      <th>C/A</th>\n",
       "      <th>UNIT</th>\n",
       "      <th>SCP</th>\n",
       "      <th>STATION</th>\n",
       "      <th>LINENAME</th>\n",
       "      <th>DIVISION</th>\n",
       "      <th>DATE</th>\n",
       "      <th>TIME</th>\n",
       "      <th>DESC</th>\n",
       "      <th>ENTRIES</th>\n",
       "      <th>EXITS</th>\n",
       "    </tr>\n",
       "  </thead>\n",
       "  <tbody>\n",
       "    <tr>\n",
       "      <th>0</th>\n",
       "      <td>A002</td>\n",
       "      <td>R051</td>\n",
       "      <td>02-00-00</td>\n",
       "      <td>59 ST</td>\n",
       "      <td>NQR456W</td>\n",
       "      <td>BMT</td>\n",
       "      <td>03/30/2019</td>\n",
       "      <td>00:00:00</td>\n",
       "      <td>REGULAR</td>\n",
       "      <td>6999064</td>\n",
       "      <td>2373568</td>\n",
       "    </tr>\n",
       "    <tr>\n",
       "      <th>1</th>\n",
       "      <td>A002</td>\n",
       "      <td>R051</td>\n",
       "      <td>02-00-00</td>\n",
       "      <td>59 ST</td>\n",
       "      <td>NQR456W</td>\n",
       "      <td>BMT</td>\n",
       "      <td>03/30/2019</td>\n",
       "      <td>04:00:00</td>\n",
       "      <td>REGULAR</td>\n",
       "      <td>6999084</td>\n",
       "      <td>2373576</td>\n",
       "    </tr>\n",
       "    <tr>\n",
       "      <th>2</th>\n",
       "      <td>A002</td>\n",
       "      <td>R051</td>\n",
       "      <td>02-00-00</td>\n",
       "      <td>59 ST</td>\n",
       "      <td>NQR456W</td>\n",
       "      <td>BMT</td>\n",
       "      <td>03/30/2019</td>\n",
       "      <td>08:00:00</td>\n",
       "      <td>REGULAR</td>\n",
       "      <td>6999107</td>\n",
       "      <td>2373622</td>\n",
       "    </tr>\n",
       "    <tr>\n",
       "      <th>3</th>\n",
       "      <td>A002</td>\n",
       "      <td>R051</td>\n",
       "      <td>02-00-00</td>\n",
       "      <td>59 ST</td>\n",
       "      <td>NQR456W</td>\n",
       "      <td>BMT</td>\n",
       "      <td>03/30/2019</td>\n",
       "      <td>12:00:00</td>\n",
       "      <td>REGULAR</td>\n",
       "      <td>6999214</td>\n",
       "      <td>2373710</td>\n",
       "    </tr>\n",
       "    <tr>\n",
       "      <th>4</th>\n",
       "      <td>A002</td>\n",
       "      <td>R051</td>\n",
       "      <td>02-00-00</td>\n",
       "      <td>59 ST</td>\n",
       "      <td>NQR456W</td>\n",
       "      <td>BMT</td>\n",
       "      <td>03/30/2019</td>\n",
       "      <td>16:00:00</td>\n",
       "      <td>REGULAR</td>\n",
       "      <td>6999451</td>\n",
       "      <td>2373781</td>\n",
       "    </tr>\n",
       "  </tbody>\n",
       "</table>\n",
       "</div>"
      ],
      "text/plain": [
       "    C/A  UNIT       SCP STATION LINENAME DIVISION        DATE      TIME  \\\n",
       "0  A002  R051  02-00-00   59 ST  NQR456W      BMT  03/30/2019  00:00:00   \n",
       "1  A002  R051  02-00-00   59 ST  NQR456W      BMT  03/30/2019  04:00:00   \n",
       "2  A002  R051  02-00-00   59 ST  NQR456W      BMT  03/30/2019  08:00:00   \n",
       "3  A002  R051  02-00-00   59 ST  NQR456W      BMT  03/30/2019  12:00:00   \n",
       "4  A002  R051  02-00-00   59 ST  NQR456W      BMT  03/30/2019  16:00:00   \n",
       "\n",
       "      DESC  ENTRIES    EXITS  \n",
       "0  REGULAR  6999064  2373568  \n",
       "1  REGULAR  6999084  2373576  \n",
       "2  REGULAR  6999107  2373622  \n",
       "3  REGULAR  6999214  2373710  \n",
       "4  REGULAR  6999451  2373781  "
      ]
     },
     "execution_count": 1,
     "metadata": {},
     "output_type": "execute_result"
    }
   ],
   "source": [
    "# ridership data:\n",
    "from __future__ import print_function, division\n",
    "\n",
    "import pandas as pd\n",
    "import numpy as np\n",
    "import matplotlib.pyplot as plt\n",
    "import datetime\n",
    "import seaborn as sns\n",
    "\n",
    "%matplotlib inline\n",
    "\n",
    "def get_data(week_nums):\n",
    "    url = \"http://web.mta.info/developers/data/nyct/turnstile/turnstile_{}.txt\"\n",
    "    dfs = []\n",
    "    for week_num in week_nums:\n",
    "        file_url = url.format(week_num)\n",
    "        dfs.append(pd.read_csv(file_url))\n",
    "    return pd.concat(dfs)\n",
    "        \n",
    "week_nums = [190406, 190413, 190420, 190427]\n",
    "mta = get_data(week_nums)\n",
    "\n",
    "mta.columns = [column.strip() for column in mta.columns]\n",
    "\n",
    "mta.DATE.value_counts().sort_index()\n",
    "\n",
    "mta.head()"
   ]
  },
  {
   "cell_type": "markdown",
   "metadata": {},
   "source": [
    "Source for station_locations:\n",
    "stat_loc = https://data.ny.gov/Transportation/NYC-Transit-Subway-Entrance-And-Exit-Data/i9wp-a4ja"
   ]
  },
  {
   "cell_type": "code",
   "execution_count": 2,
   "metadata": {},
   "outputs": [],
   "source": [
    "station_locations = pd.read_csv('NYC_Transit_Subway_Entrance_And_Exit_Data.csv')"
   ]
  },
  {
   "cell_type": "code",
   "execution_count": 3,
   "metadata": {},
   "outputs": [
    {
     "data": {
      "text/plain": [
       "(1868, 32)"
      ]
     },
     "execution_count": 3,
     "metadata": {},
     "output_type": "execute_result"
    }
   ],
   "source": [
    "station_locations.shape"
   ]
  },
  {
   "cell_type": "code",
   "execution_count": 4,
   "metadata": {
    "scrolled": true
   },
   "outputs": [
    {
     "data": {
      "text/html": [
       "<div>\n",
       "<style scoped>\n",
       "    .dataframe tbody tr th:only-of-type {\n",
       "        vertical-align: middle;\n",
       "    }\n",
       "\n",
       "    .dataframe tbody tr th {\n",
       "        vertical-align: top;\n",
       "    }\n",
       "\n",
       "    .dataframe thead th {\n",
       "        text-align: right;\n",
       "    }\n",
       "</style>\n",
       "<table border=\"1\" class=\"dataframe\">\n",
       "  <thead>\n",
       "    <tr style=\"text-align: right;\">\n",
       "      <th></th>\n",
       "      <th>Division</th>\n",
       "      <th>Line</th>\n",
       "      <th>Station Name</th>\n",
       "      <th>Station Latitude</th>\n",
       "      <th>Station Longitude</th>\n",
       "      <th>Route1</th>\n",
       "      <th>Route2</th>\n",
       "      <th>Route3</th>\n",
       "      <th>Route4</th>\n",
       "      <th>Route5</th>\n",
       "      <th>...</th>\n",
       "      <th>ADA</th>\n",
       "      <th>ADA Notes</th>\n",
       "      <th>Free Crossover</th>\n",
       "      <th>North South Street</th>\n",
       "      <th>East West Street</th>\n",
       "      <th>Corner</th>\n",
       "      <th>Entrance Latitude</th>\n",
       "      <th>Entrance Longitude</th>\n",
       "      <th>Station Location</th>\n",
       "      <th>Entrance Location</th>\n",
       "    </tr>\n",
       "  </thead>\n",
       "  <tbody>\n",
       "    <tr>\n",
       "      <th>0</th>\n",
       "      <td>BMT</td>\n",
       "      <td>4 Avenue</td>\n",
       "      <td>25th St</td>\n",
       "      <td>40.660397</td>\n",
       "      <td>-73.998091</td>\n",
       "      <td>R</td>\n",
       "      <td>NaN</td>\n",
       "      <td>NaN</td>\n",
       "      <td>NaN</td>\n",
       "      <td>NaN</td>\n",
       "      <td>...</td>\n",
       "      <td>False</td>\n",
       "      <td>NaN</td>\n",
       "      <td>False</td>\n",
       "      <td>4th Ave</td>\n",
       "      <td>25th St</td>\n",
       "      <td>SW</td>\n",
       "      <td>40.660489</td>\n",
       "      <td>-73.998220</td>\n",
       "      <td>(40.660397, -73.998091)</td>\n",
       "      <td>(40.660489, -73.99822)</td>\n",
       "    </tr>\n",
       "    <tr>\n",
       "      <th>1</th>\n",
       "      <td>BMT</td>\n",
       "      <td>4 Avenue</td>\n",
       "      <td>25th St</td>\n",
       "      <td>40.660397</td>\n",
       "      <td>-73.998091</td>\n",
       "      <td>R</td>\n",
       "      <td>NaN</td>\n",
       "      <td>NaN</td>\n",
       "      <td>NaN</td>\n",
       "      <td>NaN</td>\n",
       "      <td>...</td>\n",
       "      <td>False</td>\n",
       "      <td>NaN</td>\n",
       "      <td>False</td>\n",
       "      <td>4th Ave</td>\n",
       "      <td>25th St</td>\n",
       "      <td>SE</td>\n",
       "      <td>40.660323</td>\n",
       "      <td>-73.997952</td>\n",
       "      <td>(40.660397, -73.998091)</td>\n",
       "      <td>(40.660323, -73.997952)</td>\n",
       "    </tr>\n",
       "    <tr>\n",
       "      <th>2</th>\n",
       "      <td>BMT</td>\n",
       "      <td>4 Avenue</td>\n",
       "      <td>36th St</td>\n",
       "      <td>40.655144</td>\n",
       "      <td>-74.003549</td>\n",
       "      <td>N</td>\n",
       "      <td>R</td>\n",
       "      <td>NaN</td>\n",
       "      <td>NaN</td>\n",
       "      <td>NaN</td>\n",
       "      <td>...</td>\n",
       "      <td>False</td>\n",
       "      <td>NaN</td>\n",
       "      <td>True</td>\n",
       "      <td>4th Ave</td>\n",
       "      <td>36th St</td>\n",
       "      <td>NW</td>\n",
       "      <td>40.654676</td>\n",
       "      <td>-74.004306</td>\n",
       "      <td>(40.655144, -74.003549)</td>\n",
       "      <td>(40.654676, -74.004306)</td>\n",
       "    </tr>\n",
       "    <tr>\n",
       "      <th>3</th>\n",
       "      <td>BMT</td>\n",
       "      <td>4 Avenue</td>\n",
       "      <td>36th St</td>\n",
       "      <td>40.655144</td>\n",
       "      <td>-74.003549</td>\n",
       "      <td>N</td>\n",
       "      <td>R</td>\n",
       "      <td>NaN</td>\n",
       "      <td>NaN</td>\n",
       "      <td>NaN</td>\n",
       "      <td>...</td>\n",
       "      <td>False</td>\n",
       "      <td>NaN</td>\n",
       "      <td>True</td>\n",
       "      <td>4th Ave</td>\n",
       "      <td>36th St</td>\n",
       "      <td>NE</td>\n",
       "      <td>40.654365</td>\n",
       "      <td>-74.004113</td>\n",
       "      <td>(40.655144, -74.003549)</td>\n",
       "      <td>(40.654365, -74.004113)</td>\n",
       "    </tr>\n",
       "    <tr>\n",
       "      <th>4</th>\n",
       "      <td>BMT</td>\n",
       "      <td>4 Avenue</td>\n",
       "      <td>36th St</td>\n",
       "      <td>40.655144</td>\n",
       "      <td>-74.003549</td>\n",
       "      <td>N</td>\n",
       "      <td>R</td>\n",
       "      <td>NaN</td>\n",
       "      <td>NaN</td>\n",
       "      <td>NaN</td>\n",
       "      <td>...</td>\n",
       "      <td>False</td>\n",
       "      <td>NaN</td>\n",
       "      <td>True</td>\n",
       "      <td>4th Ave</td>\n",
       "      <td>36th St</td>\n",
       "      <td>NW</td>\n",
       "      <td>40.654490</td>\n",
       "      <td>-74.004499</td>\n",
       "      <td>(40.655144, -74.003549)</td>\n",
       "      <td>(40.65449, -74.004499)</td>\n",
       "    </tr>\n",
       "  </tbody>\n",
       "</table>\n",
       "<p>5 rows × 32 columns</p>\n",
       "</div>"
      ],
      "text/plain": [
       "  Division      Line Station Name  Station Latitude  Station Longitude Route1  \\\n",
       "0      BMT  4 Avenue      25th St         40.660397         -73.998091      R   \n",
       "1      BMT  4 Avenue      25th St         40.660397         -73.998091      R   \n",
       "2      BMT  4 Avenue      36th St         40.655144         -74.003549      N   \n",
       "3      BMT  4 Avenue      36th St         40.655144         -74.003549      N   \n",
       "4      BMT  4 Avenue      36th St         40.655144         -74.003549      N   \n",
       "\n",
       "  Route2 Route3 Route4 Route5  ...    ADA ADA Notes  Free Crossover  \\\n",
       "0    NaN    NaN    NaN    NaN  ...  False       NaN           False   \n",
       "1    NaN    NaN    NaN    NaN  ...  False       NaN           False   \n",
       "2      R    NaN    NaN    NaN  ...  False       NaN            True   \n",
       "3      R    NaN    NaN    NaN  ...  False       NaN            True   \n",
       "4      R    NaN    NaN    NaN  ...  False       NaN            True   \n",
       "\n",
       "   North South Street  East West Street  Corner Entrance Latitude  \\\n",
       "0             4th Ave           25th St      SW         40.660489   \n",
       "1             4th Ave           25th St      SE         40.660323   \n",
       "2             4th Ave           36th St      NW         40.654676   \n",
       "3             4th Ave           36th St      NE         40.654365   \n",
       "4             4th Ave           36th St      NW         40.654490   \n",
       "\n",
       "  Entrance Longitude         Station Location        Entrance Location  \n",
       "0         -73.998220  (40.660397, -73.998091)   (40.660489, -73.99822)  \n",
       "1         -73.997952  (40.660397, -73.998091)  (40.660323, -73.997952)  \n",
       "2         -74.004306  (40.655144, -74.003549)  (40.654676, -74.004306)  \n",
       "3         -74.004113  (40.655144, -74.003549)  (40.654365, -74.004113)  \n",
       "4         -74.004499  (40.655144, -74.003549)   (40.65449, -74.004499)  \n",
       "\n",
       "[5 rows x 32 columns]"
      ]
     },
     "execution_count": 4,
     "metadata": {},
     "output_type": "execute_result"
    }
   ],
   "source": [
    "station_locations.head()"
   ]
  },
  {
   "cell_type": "code",
   "execution_count": 5,
   "metadata": {
    "scrolled": true
   },
   "outputs": [
    {
     "data": {
      "text/plain": [
       "Index(['Division', 'Line', 'Station Name', 'Station Latitude',\n",
       "       'Station Longitude', 'Route1', 'Route2', 'Route3', 'Route4', 'Route5',\n",
       "       'Route6', 'Route7', 'Route8', 'Route9', 'Route10', 'Route11',\n",
       "       'Entrance Type', 'Entry', 'Exit Only', 'Vending', 'Staffing',\n",
       "       'Staff Hours', 'ADA', 'ADA Notes', 'Free Crossover',\n",
       "       'North South Street', 'East West Street', 'Corner', 'Entrance Latitude',\n",
       "       'Entrance Longitude', 'Station Location', 'Entrance Location'],\n",
       "      dtype='object')"
      ]
     },
     "execution_count": 5,
     "metadata": {},
     "output_type": "execute_result"
    }
   ],
   "source": [
    "station_locations.columns"
   ]
  },
  {
   "cell_type": "code",
   "execution_count": 6,
   "metadata": {},
   "outputs": [
    {
     "data": {
      "text/plain": [
       "Division               object\n",
       "Line                   object\n",
       "Station Name           object\n",
       "Station Latitude      float64\n",
       "Station Longitude     float64\n",
       "Route1                 object\n",
       "Route2                 object\n",
       "Route3                 object\n",
       "Route4                 object\n",
       "Route5                 object\n",
       "Route6                 object\n",
       "Route7                 object\n",
       "Route8                float64\n",
       "Route9                float64\n",
       "Route10               float64\n",
       "Route11               float64\n",
       "Entrance Type          object\n",
       "Entry                  object\n",
       "Exit Only              object\n",
       "Vending                object\n",
       "Staffing               object\n",
       "Staff Hours            object\n",
       "ADA                      bool\n",
       "ADA Notes              object\n",
       "Free Crossover           bool\n",
       "North South Street     object\n",
       "East West Street       object\n",
       "Corner                 object\n",
       "Entrance Latitude     float64\n",
       "Entrance Longitude    float64\n",
       "Station Location       object\n",
       "Entrance Location      object\n",
       "dtype: object"
      ]
     },
     "execution_count": 6,
     "metadata": {},
     "output_type": "execute_result"
    }
   ],
   "source": [
    "station_locations.dtypes"
   ]
  },
  {
   "cell_type": "code",
   "execution_count": 7,
   "metadata": {},
   "outputs": [],
   "source": [
    "import math"
   ]
  },
  {
   "cell_type": "code",
   "execution_count": 8,
   "metadata": {},
   "outputs": [],
   "source": [
    "from math import sin, cos, sqrt, atan2, radians\n",
    "R = 6373 # Approximate radius of Earth in km"
   ]
  },
  {
   "cell_type": "markdown",
   "metadata": {},
   "source": [
    "Source for latitude and longitude of schools:\n",
    "https://latitude.to/articles-by-country/us/united-states/"
   ]
  },
  {
   "cell_type": "code",
   "execution_count": 9,
   "metadata": {},
   "outputs": [],
   "source": [
    "station_locations = station_locations.drop(['Route1', 'Route2', 'Route3', 'Route4', 'Route5',\n",
    "       'Route6', 'Route7', 'Route8', 'Route9', 'Route10', 'Route11',\n",
    "       'Entrance Type', 'Entry', 'Exit Only', 'Vending', 'Staffing',\n",
    "       'Staff Hours', 'ADA', 'ADA Notes', 'Free Crossover',\n",
    "       'North South Street', 'East West Street', 'Corner', 'Entrance Latitude',\n",
    "       'Entrance Longitude'], axis=1, errors='ignore')"
   ]
  },
  {
   "cell_type": "code",
   "execution_count": 10,
   "metadata": {
    "scrolled": false
   },
   "outputs": [
    {
     "data": {
      "text/plain": [
       "Division              object\n",
       "Line                  object\n",
       "Station Name          object\n",
       "Station Latitude     float64\n",
       "Station Longitude    float64\n",
       "Station Location      object\n",
       "Entrance Location     object\n",
       "dtype: object"
      ]
     },
     "execution_count": 10,
     "metadata": {},
     "output_type": "execute_result"
    }
   ],
   "source": [
    "station_locations.dtypes"
   ]
  },
  {
   "cell_type": "markdown",
   "metadata": {},
   "source": [
    "# Distance from each Station to Major Universities:"
   ]
  },
  {
   "cell_type": "code",
   "execution_count": 11,
   "metadata": {},
   "outputs": [],
   "source": [
    "station_locations.dropna(subset=['Station Latitude'], axis=0, inplace=True)"
   ]
  },
  {
   "cell_type": "code",
   "execution_count": 12,
   "metadata": {},
   "outputs": [],
   "source": [
    "station_locations.dropna(subset=['Station Longitude'], axis=0, inplace=True)"
   ]
  },
  {
   "cell_type": "code",
   "execution_count": 13,
   "metadata": {},
   "outputs": [],
   "source": [
    "station_locations['Columbia Latitude'] = 40.804496782\n",
    "station_locations['Columbia Longitude'] = -73.957162838\n",
    "\n",
    "station_locations['NYU Lat'] = 40.724663768\n",
    "station_locations['NYU Long'] = -73.990329372\n",
    "\n",
    "station_locations['CUNY Lat'] = 40.8197406\n",
    "station_locations['CUNY Long'] = -73.9505357\n",
    "\n",
    "station_locations['Fashion Lat'] = 40.741330368\n",
    "station_locations['Fashion Long'] = -73.989829374\n",
    "\n",
    "station_locations['Cooper Lat'] = 40.72927\n",
    "station_locations['Cooper Long'] = -73.99058"
   ]
  },
  {
   "cell_type": "code",
   "execution_count": 14,
   "metadata": {},
   "outputs": [],
   "source": [
    "def haversine_np(lon1, lat1, lon2, lat2):\n",
    "    \"\"\"\n",
    "    Calculate the great circle distance between two points\n",
    "    on the earth (specified in decimal degrees)\n",
    "\n",
    "    All args must be of equal length.    \n",
    "\n",
    "    \"\"\"\n",
    "    lon1, lat1, lon2, lat2 = map(np.radians, [lon1, lat1, lon2, lat2])\n",
    "\n",
    "    dlon = lon2 - lon1\n",
    "    dlat = lat2 - lat1\n",
    "\n",
    "    a = np.sin(dlat/2.0)**2 + np.cos(lat1) * np.cos(lat2) * np.sin(dlon/2.0)**2\n",
    "\n",
    "    c = 2 * np.arcsin(np.sqrt(a))\n",
    "    km = 6367 * c\n",
    "    return km\n"
   ]
  },
  {
   "cell_type": "code",
   "execution_count": 15,
   "metadata": {},
   "outputs": [],
   "source": [
    "# Distance to Columbia University in km:\n",
    "station_locations['Distance to Columbia'] = haversine_np(station_locations['Station Longitude'],\n",
    "                                             station_locations['Station Latitude'],\n",
    "                                             station_locations['Columbia Longitude'],\n",
    "                                             station_locations['Columbia Latitude'])"
   ]
  },
  {
   "cell_type": "code",
   "execution_count": 16,
   "metadata": {},
   "outputs": [],
   "source": [
    "# Distance to NYU in km: (40.724663768 -73.990329372)\n",
    "station_locations['Distance to NYU'] = haversine_np(station_locations['Station Longitude'],\n",
    "                                             station_locations['Station Latitude'],\n",
    "                                             station_locations['NYU Long'],\n",
    "                                             station_locations['NYU Lat'])"
   ]
  },
  {
   "cell_type": "code",
   "execution_count": 17,
   "metadata": {},
   "outputs": [],
   "source": [
    "# Distance to CUNY City College of New York: (40.8197406 -73.9505357)\n",
    "station_locations['Distance to CUNY'] = haversine_np(station_locations['Station Longitude'],\n",
    "                                             station_locations['Station Latitude'],\n",
    "                                             station_locations['CUNY Long'],\n",
    "                                             station_locations['CUNY Lat'])"
   ]
  },
  {
   "cell_type": "code",
   "execution_count": 18,
   "metadata": {},
   "outputs": [],
   "source": [
    "# Distance to Fashion Institute of Technology: (40.741330368 -73.989829374)\n",
    "station_locations['Distance to Fashion'] = haversine_np(station_locations['Station Longitude'],\n",
    "                                             station_locations['Station Latitude'],\n",
    "                                             station_locations['Fashion Long'],\n",
    "                                             station_locations['Fashion Lat'])"
   ]
  },
  {
   "cell_type": "code",
   "execution_count": 19,
   "metadata": {},
   "outputs": [],
   "source": [
    "# Distance to Cooper Union for Advancement of Science and Art: (40.72927 -73.99058)\n",
    "station_locations['Distance to Cooper'] = haversine_np(station_locations['Station Longitude'],\n",
    "                                             station_locations['Station Latitude'],\n",
    "                                             station_locations['Cooper Long'],\n",
    "                                             station_locations['Cooper Lat'])"
   ]
  },
  {
   "cell_type": "code",
   "execution_count": 20,
   "metadata": {},
   "outputs": [
    {
     "data": {
      "text/html": [
       "<div>\n",
       "<style scoped>\n",
       "    .dataframe tbody tr th:only-of-type {\n",
       "        vertical-align: middle;\n",
       "    }\n",
       "\n",
       "    .dataframe tbody tr th {\n",
       "        vertical-align: top;\n",
       "    }\n",
       "\n",
       "    .dataframe thead th {\n",
       "        text-align: right;\n",
       "    }\n",
       "</style>\n",
       "<table border=\"1\" class=\"dataframe\">\n",
       "  <thead>\n",
       "    <tr style=\"text-align: right;\">\n",
       "      <th></th>\n",
       "      <th>Division</th>\n",
       "      <th>Line</th>\n",
       "      <th>Station Name</th>\n",
       "      <th>Station Latitude</th>\n",
       "      <th>Station Longitude</th>\n",
       "      <th>Station Location</th>\n",
       "      <th>Entrance Location</th>\n",
       "      <th>Columbia Latitude</th>\n",
       "      <th>Columbia Longitude</th>\n",
       "      <th>NYU Lat</th>\n",
       "      <th>...</th>\n",
       "      <th>CUNY Long</th>\n",
       "      <th>Fashion Lat</th>\n",
       "      <th>Fashion Long</th>\n",
       "      <th>Cooper Lat</th>\n",
       "      <th>Cooper Long</th>\n",
       "      <th>Distance to Columbia</th>\n",
       "      <th>Distance to NYU</th>\n",
       "      <th>Distance to CUNY</th>\n",
       "      <th>Distance to Fashion</th>\n",
       "      <th>Distance to Cooper</th>\n",
       "    </tr>\n",
       "  </thead>\n",
       "  <tbody>\n",
       "    <tr>\n",
       "      <th>0</th>\n",
       "      <td>BMT</td>\n",
       "      <td>4 Avenue</td>\n",
       "      <td>25th St</td>\n",
       "      <td>40.660397</td>\n",
       "      <td>-73.998091</td>\n",
       "      <td>(40.660397, -73.998091)</td>\n",
       "      <td>(40.660489, -73.99822)</td>\n",
       "      <td>40.804497</td>\n",
       "      <td>-73.957163</td>\n",
       "      <td>40.724664</td>\n",
       "      <td>...</td>\n",
       "      <td>-73.950536</td>\n",
       "      <td>40.74133</td>\n",
       "      <td>-73.989829</td>\n",
       "      <td>40.72927</td>\n",
       "      <td>-73.99058</td>\n",
       "      <td>16.379785</td>\n",
       "      <td>7.171532</td>\n",
       "      <td>18.154136</td>\n",
       "      <td>9.020621</td>\n",
       "      <td>7.679638</td>\n",
       "    </tr>\n",
       "    <tr>\n",
       "      <th>1</th>\n",
       "      <td>BMT</td>\n",
       "      <td>4 Avenue</td>\n",
       "      <td>25th St</td>\n",
       "      <td>40.660397</td>\n",
       "      <td>-73.998091</td>\n",
       "      <td>(40.660397, -73.998091)</td>\n",
       "      <td>(40.660323, -73.997952)</td>\n",
       "      <td>40.804497</td>\n",
       "      <td>-73.957163</td>\n",
       "      <td>40.724664</td>\n",
       "      <td>...</td>\n",
       "      <td>-73.950536</td>\n",
       "      <td>40.74133</td>\n",
       "      <td>-73.989829</td>\n",
       "      <td>40.72927</td>\n",
       "      <td>-73.99058</td>\n",
       "      <td>16.379785</td>\n",
       "      <td>7.171532</td>\n",
       "      <td>18.154136</td>\n",
       "      <td>9.020621</td>\n",
       "      <td>7.679638</td>\n",
       "    </tr>\n",
       "    <tr>\n",
       "      <th>2</th>\n",
       "      <td>BMT</td>\n",
       "      <td>4 Avenue</td>\n",
       "      <td>36th St</td>\n",
       "      <td>40.655144</td>\n",
       "      <td>-74.003549</td>\n",
       "      <td>(40.655144, -74.003549)</td>\n",
       "      <td>(40.654676, -74.004306)</td>\n",
       "      <td>40.804497</td>\n",
       "      <td>-73.957163</td>\n",
       "      <td>40.724664</td>\n",
       "      <td>...</td>\n",
       "      <td>-73.950536</td>\n",
       "      <td>40.74133</td>\n",
       "      <td>-73.989829</td>\n",
       "      <td>40.72927</td>\n",
       "      <td>-73.99058</td>\n",
       "      <td>17.050322</td>\n",
       "      <td>7.805283</td>\n",
       "      <td>18.827610</td>\n",
       "      <td>9.646968</td>\n",
       "      <td>8.309424</td>\n",
       "    </tr>\n",
       "    <tr>\n",
       "      <th>3</th>\n",
       "      <td>BMT</td>\n",
       "      <td>4 Avenue</td>\n",
       "      <td>36th St</td>\n",
       "      <td>40.655144</td>\n",
       "      <td>-74.003549</td>\n",
       "      <td>(40.655144, -74.003549)</td>\n",
       "      <td>(40.654365, -74.004113)</td>\n",
       "      <td>40.804497</td>\n",
       "      <td>-73.957163</td>\n",
       "      <td>40.724664</td>\n",
       "      <td>...</td>\n",
       "      <td>-73.950536</td>\n",
       "      <td>40.74133</td>\n",
       "      <td>-73.989829</td>\n",
       "      <td>40.72927</td>\n",
       "      <td>-73.99058</td>\n",
       "      <td>17.050322</td>\n",
       "      <td>7.805283</td>\n",
       "      <td>18.827610</td>\n",
       "      <td>9.646968</td>\n",
       "      <td>8.309424</td>\n",
       "    </tr>\n",
       "    <tr>\n",
       "      <th>4</th>\n",
       "      <td>BMT</td>\n",
       "      <td>4 Avenue</td>\n",
       "      <td>36th St</td>\n",
       "      <td>40.655144</td>\n",
       "      <td>-74.003549</td>\n",
       "      <td>(40.655144, -74.003549)</td>\n",
       "      <td>(40.65449, -74.004499)</td>\n",
       "      <td>40.804497</td>\n",
       "      <td>-73.957163</td>\n",
       "      <td>40.724664</td>\n",
       "      <td>...</td>\n",
       "      <td>-73.950536</td>\n",
       "      <td>40.74133</td>\n",
       "      <td>-73.989829</td>\n",
       "      <td>40.72927</td>\n",
       "      <td>-73.99058</td>\n",
       "      <td>17.050322</td>\n",
       "      <td>7.805283</td>\n",
       "      <td>18.827610</td>\n",
       "      <td>9.646968</td>\n",
       "      <td>8.309424</td>\n",
       "    </tr>\n",
       "  </tbody>\n",
       "</table>\n",
       "<p>5 rows × 22 columns</p>\n",
       "</div>"
      ],
      "text/plain": [
       "  Division      Line Station Name  Station Latitude  Station Longitude  \\\n",
       "0      BMT  4 Avenue      25th St         40.660397         -73.998091   \n",
       "1      BMT  4 Avenue      25th St         40.660397         -73.998091   \n",
       "2      BMT  4 Avenue      36th St         40.655144         -74.003549   \n",
       "3      BMT  4 Avenue      36th St         40.655144         -74.003549   \n",
       "4      BMT  4 Avenue      36th St         40.655144         -74.003549   \n",
       "\n",
       "          Station Location        Entrance Location  Columbia Latitude  \\\n",
       "0  (40.660397, -73.998091)   (40.660489, -73.99822)          40.804497   \n",
       "1  (40.660397, -73.998091)  (40.660323, -73.997952)          40.804497   \n",
       "2  (40.655144, -74.003549)  (40.654676, -74.004306)          40.804497   \n",
       "3  (40.655144, -74.003549)  (40.654365, -74.004113)          40.804497   \n",
       "4  (40.655144, -74.003549)   (40.65449, -74.004499)          40.804497   \n",
       "\n",
       "   Columbia Longitude    NYU Lat  ...  CUNY Long  Fashion Lat  Fashion Long  \\\n",
       "0          -73.957163  40.724664  ... -73.950536     40.74133    -73.989829   \n",
       "1          -73.957163  40.724664  ... -73.950536     40.74133    -73.989829   \n",
       "2          -73.957163  40.724664  ... -73.950536     40.74133    -73.989829   \n",
       "3          -73.957163  40.724664  ... -73.950536     40.74133    -73.989829   \n",
       "4          -73.957163  40.724664  ... -73.950536     40.74133    -73.989829   \n",
       "\n",
       "   Cooper Lat  Cooper Long  Distance to Columbia  Distance to NYU  \\\n",
       "0    40.72927    -73.99058             16.379785         7.171532   \n",
       "1    40.72927    -73.99058             16.379785         7.171532   \n",
       "2    40.72927    -73.99058             17.050322         7.805283   \n",
       "3    40.72927    -73.99058             17.050322         7.805283   \n",
       "4    40.72927    -73.99058             17.050322         7.805283   \n",
       "\n",
       "   Distance to CUNY  Distance to Fashion  Distance to Cooper  \n",
       "0         18.154136             9.020621            7.679638  \n",
       "1         18.154136             9.020621            7.679638  \n",
       "2         18.827610             9.646968            8.309424  \n",
       "3         18.827610             9.646968            8.309424  \n",
       "4         18.827610             9.646968            8.309424  \n",
       "\n",
       "[5 rows x 22 columns]"
      ]
     },
     "execution_count": 20,
     "metadata": {},
     "output_type": "execute_result"
    }
   ],
   "source": [
    "station_locations.head()"
   ]
  },
  {
   "cell_type": "markdown",
   "metadata": {},
   "source": [
    "Which stations are within 1 km of each university?\n",
    "- Walkable distance is approximately 1 km or less"
   ]
  },
  {
   "cell_type": "code",
   "execution_count": 21,
   "metadata": {
    "scrolled": false
   },
   "outputs": [
    {
     "name": "stdout",
     "output_type": "stream",
     "text": [
      "['116th St' '125th St' 'Cathedral Parkway-110th St'\n",
      " '116th St-Columbia University' '110th St-Central Park North']\n"
     ]
    }
   ],
   "source": [
    "df_columbia = station_locations[station_locations['Distance to Columbia'] <=1]\n",
    "stations_near_columbia = df_columbia['Station Name'].unique()\n",
    "print(stations_near_columbia)"
   ]
  },
  {
   "cell_type": "code",
   "execution_count": 22,
   "metadata": {},
   "outputs": [
    {
     "name": "stdout",
     "output_type": "stream",
     "text": [
      "['8th St' 'Prince St' '3rd Av' 'Bowery' 'Essex St' '2nd Av'\n",
      " 'Broadway-Lafayette St' 'Delancey St' 'Grand St' 'Astor Place'\n",
      " 'Bleecker St' 'Spring St']\n"
     ]
    }
   ],
   "source": [
    "df_nyu = station_locations[station_locations['Distance to NYU'] <=1]\n",
    "stations_near_nyu = df_nyu['Station Name'].unique()\n",
    "print(stations_near_nyu)"
   ]
  },
  {
   "cell_type": "code",
   "execution_count": 23,
   "metadata": {},
   "outputs": [
    {
     "name": "stdout",
     "output_type": "stream",
     "text": [
      "['125th St' '135th St' '145th St' '137th St-City College']\n"
     ]
    }
   ],
   "source": [
    "df_cuny = station_locations[station_locations['Distance to CUNY'] <=1]\n",
    "stations_near_cuny = df_cuny['Station Name'].unique()\n",
    "print(stations_near_cuny)"
   ]
  },
  {
   "cell_type": "code",
   "execution_count": 24,
   "metadata": {},
   "outputs": [
    {
     "name": "stdout",
     "output_type": "stream",
     "text": [
      "['23rd St' '28th St' '34th St' 'Union Square' '3rd Av' '6th Av' '14th St'\n",
      " '18th St' '14th St-Union Square' '33rd St']\n"
     ]
    }
   ],
   "source": [
    "df_fashion = station_locations[station_locations['Distance to Fashion'] <=1]\n",
    "stations_near_fashion = df_fashion['Station Name'].unique()\n",
    "print(stations_near_fashion)"
   ]
  },
  {
   "cell_type": "code",
   "execution_count": 25,
   "metadata": {},
   "outputs": [
    {
     "name": "stdout",
     "output_type": "stream",
     "text": [
      "['8th St' 'Prince St' 'Union Square' '1st Av' '3rd Av' '2nd Av'\n",
      " 'Broadway-Lafayette St' 'West 4th St' '14th St-Union Square'\n",
      " 'Astor Place' 'Bleecker St' 'Spring St']\n"
     ]
    }
   ],
   "source": [
    "df_cooper = station_locations[station_locations['Distance to Cooper'] <=1]\n",
    "stations_near_cooper = df_cooper['Station Name'].unique()\n",
    "print(stations_near_cooper)"
   ]
  },
  {
   "cell_type": "code",
   "execution_count": 26,
   "metadata": {
    "scrolled": false
   },
   "outputs": [
    {
     "name": "stdout",
     "output_type": "stream",
     "text": [
      "['110th St-Central Park North' '116th St' '116th St-Columbia University'\n",
      " '125th St' '125th St' '135th St' '137th St-City College' '145th St'\n",
      " '14th St' '14th St-Union Square' '14th St-Union Square' '18th St'\n",
      " '1st Av' '23rd St' '28th St' '2nd Av' '2nd Av' '33rd St' '34th St'\n",
      " '3rd Av' '3rd Av' '3rd Av' '6th Av' '8th St' '8th St' 'Astor Place'\n",
      " 'Astor Place' 'Bleecker St' 'Bleecker St' 'Bowery'\n",
      " 'Broadway-Lafayette St' 'Broadway-Lafayette St'\n",
      " 'Cathedral Parkway-110th St' 'Delancey St' 'Essex St' 'Grand St'\n",
      " 'Prince St' 'Prince St' 'Spring St' 'Spring St' 'Union Square'\n",
      " 'Union Square' 'West 4th St']\n"
     ]
    }
   ],
   "source": [
    "stations_near_universities = np.concatenate((stations_near_columbia, \n",
    "                                             stations_near_nyu,\n",
    "                                             stations_near_cuny,\n",
    "                                             stations_near_fashion,\n",
    "                                             stations_near_cooper))\n",
    "print(np.sort(stations_near_universities))"
   ]
  },
  {
   "cell_type": "markdown",
   "metadata": {},
   "source": [
    "## Number of Universities within walking distance of each station"
   ]
  },
  {
   "cell_type": "code",
   "execution_count": 27,
   "metadata": {},
   "outputs": [
    {
     "data": {
      "text/plain": [
       "3rd Av                          3\n",
       "Astor Place                     2\n",
       "8th St                          2\n",
       "125th St                        2\n",
       "Union Square                    2\n",
       "14th St-Union Square            2\n",
       "Broadway-Lafayette St           2\n",
       "Bleecker St                     2\n",
       "2nd Av                          2\n",
       "Spring St                       2\n",
       "Prince St                       2\n",
       "14th St                         1\n",
       "18th St                         1\n",
       "116th St                        1\n",
       "110th St-Central Park North     1\n",
       "6th Av                          1\n",
       "1st Av                          1\n",
       "145th St                        1\n",
       "116th St-Columbia University    1\n",
       "Delancey St                     1\n",
       "Grand St                        1\n",
       "28th St                         1\n",
       "Bowery                          1\n",
       "33rd St                         1\n",
       "34th St                         1\n",
       "Essex St                        1\n",
       "23rd St                         1\n",
       "Cathedral Parkway-110th St      1\n",
       "West 4th St                     1\n",
       "135th St                        1\n",
       "137th St-City College           1\n",
       "Name: 0, dtype: int64"
      ]
     },
     "execution_count": 27,
     "metadata": {},
     "output_type": "execute_result"
    }
   ],
   "source": [
    "stations_near_universities = pd.DataFrame(stations_near_universities)\n",
    "stations_near_universities[0].value_counts()"
   ]
  },
  {
   "cell_type": "markdown",
   "metadata": {},
   "source": [
    "# Stations Near Tech Companies:"
   ]
  },
  {
   "cell_type": "markdown",
   "metadata": {},
   "source": [
    "https://www.findlatitudeandlongitude.com/"
   ]
  },
  {
   "cell_type": "code",
   "execution_count": 28,
   "metadata": {},
   "outputs": [],
   "source": [
    "station_locations['WeWork Latitude'] = 40.7405\n",
    "station_locations['WeWork Longitude'] = -73.995938\n",
    "\n",
    "station_locations['Google Lat'] = 40.743224\n",
    "station_locations['Google Long'] = -74.007985\n",
    "\n",
    "station_locations['Facebook Lat'] = 40.730852\n",
    "station_locations['Facebook Long'] = -73.991364\n",
    "\n",
    "station_locations['Spotify Lat'] = 40.710609\n",
    "station_locations['Spotify Long'] = -74.012956\n",
    "\n",
    "station_locations['Amazon Lat'] = 40.753496\n",
    "station_locations['Amazon Long'] = -73.998658"
   ]
  },
  {
   "cell_type": "code",
   "execution_count": 29,
   "metadata": {},
   "outputs": [],
   "source": [
    "# Distance to WeWork Technology in km:\n",
    "station_locations['Distance to WeWork'] = haversine_np(station_locations['Station Longitude'],\n",
    "                                             station_locations['Station Latitude'],\n",
    "                                             station_locations['WeWork Longitude'],\n",
    "                                             station_locations['WeWork Latitude'])"
   ]
  },
  {
   "cell_type": "code",
   "execution_count": 30,
   "metadata": {},
   "outputs": [],
   "source": [
    "# Distance to Google in km:\n",
    "station_locations['Distance to Google'] = haversine_np(station_locations['Station Longitude'],\n",
    "                                             station_locations['Station Latitude'],\n",
    "                                             station_locations['Google Long'],\n",
    "                                             station_locations['Google Lat'])"
   ]
  },
  {
   "cell_type": "code",
   "execution_count": 31,
   "metadata": {},
   "outputs": [],
   "source": [
    "# Distance to Facebook in km:\n",
    "station_locations['Distance to Facebook'] = haversine_np(station_locations['Station Longitude'],\n",
    "                                             station_locations['Station Latitude'],\n",
    "                                             station_locations['Facebook Long'],\n",
    "                                             station_locations['Facebook Lat'])"
   ]
  },
  {
   "cell_type": "code",
   "execution_count": 32,
   "metadata": {},
   "outputs": [],
   "source": [
    "# Distance to Spotify in km:\n",
    "station_locations['Distance to Spotify'] = haversine_np(station_locations['Station Longitude'],\n",
    "                                             station_locations['Station Latitude'],\n",
    "                                             station_locations['Spotify Long'],\n",
    "                                             station_locations['Spotify Lat'])"
   ]
  },
  {
   "cell_type": "code",
   "execution_count": 33,
   "metadata": {},
   "outputs": [],
   "source": [
    "# Distance to Amazon in km:\n",
    "station_locations['Distance to Amazon'] = haversine_np(station_locations['Station Longitude'],\n",
    "                                             station_locations['Station Latitude'],\n",
    "                                             station_locations['Amazon Long'],\n",
    "                                             station_locations['Amazon Lat'])"
   ]
  },
  {
   "cell_type": "code",
   "execution_count": 34,
   "metadata": {},
   "outputs": [
    {
     "data": {
      "text/html": [
       "<div>\n",
       "<style scoped>\n",
       "    .dataframe tbody tr th:only-of-type {\n",
       "        vertical-align: middle;\n",
       "    }\n",
       "\n",
       "    .dataframe tbody tr th {\n",
       "        vertical-align: top;\n",
       "    }\n",
       "\n",
       "    .dataframe thead th {\n",
       "        text-align: right;\n",
       "    }\n",
       "</style>\n",
       "<table border=\"1\" class=\"dataframe\">\n",
       "  <thead>\n",
       "    <tr style=\"text-align: right;\">\n",
       "      <th></th>\n",
       "      <th>Division</th>\n",
       "      <th>Line</th>\n",
       "      <th>Station Name</th>\n",
       "      <th>Station Latitude</th>\n",
       "      <th>Station Longitude</th>\n",
       "      <th>Station Location</th>\n",
       "      <th>Entrance Location</th>\n",
       "      <th>Columbia Latitude</th>\n",
       "      <th>Columbia Longitude</th>\n",
       "      <th>NYU Lat</th>\n",
       "      <th>...</th>\n",
       "      <th>Facebook Long</th>\n",
       "      <th>Spotify Lat</th>\n",
       "      <th>Spotify Long</th>\n",
       "      <th>Amazon Lat</th>\n",
       "      <th>Amazon Long</th>\n",
       "      <th>Distance to WeWork</th>\n",
       "      <th>Distance to Google</th>\n",
       "      <th>Distance to Facebook</th>\n",
       "      <th>Distance to Spotify</th>\n",
       "      <th>Distance to Amazon</th>\n",
       "    </tr>\n",
       "  </thead>\n",
       "  <tbody>\n",
       "    <tr>\n",
       "      <th>0</th>\n",
       "      <td>BMT</td>\n",
       "      <td>4 Avenue</td>\n",
       "      <td>25th St</td>\n",
       "      <td>40.660397</td>\n",
       "      <td>-73.998091</td>\n",
       "      <td>(40.660397, -73.998091)</td>\n",
       "      <td>(40.660489, -73.99822)</td>\n",
       "      <td>40.804497</td>\n",
       "      <td>-73.957163</td>\n",
       "      <td>40.724664</td>\n",
       "      <td>...</td>\n",
       "      <td>-73.991364</td>\n",
       "      <td>40.710609</td>\n",
       "      <td>-74.012956</td>\n",
       "      <td>40.753496</td>\n",
       "      <td>-73.998658</td>\n",
       "      <td>8.903303</td>\n",
       "      <td>9.241825</td>\n",
       "      <td>7.849808</td>\n",
       "      <td>5.718686</td>\n",
       "      <td>10.345747</td>\n",
       "    </tr>\n",
       "    <tr>\n",
       "      <th>1</th>\n",
       "      <td>BMT</td>\n",
       "      <td>4 Avenue</td>\n",
       "      <td>25th St</td>\n",
       "      <td>40.660397</td>\n",
       "      <td>-73.998091</td>\n",
       "      <td>(40.660397, -73.998091)</td>\n",
       "      <td>(40.660323, -73.997952)</td>\n",
       "      <td>40.804497</td>\n",
       "      <td>-73.957163</td>\n",
       "      <td>40.724664</td>\n",
       "      <td>...</td>\n",
       "      <td>-73.991364</td>\n",
       "      <td>40.710609</td>\n",
       "      <td>-74.012956</td>\n",
       "      <td>40.753496</td>\n",
       "      <td>-73.998658</td>\n",
       "      <td>8.903303</td>\n",
       "      <td>9.241825</td>\n",
       "      <td>7.849808</td>\n",
       "      <td>5.718686</td>\n",
       "      <td>10.345747</td>\n",
       "    </tr>\n",
       "    <tr>\n",
       "      <th>2</th>\n",
       "      <td>BMT</td>\n",
       "      <td>4 Avenue</td>\n",
       "      <td>36th St</td>\n",
       "      <td>40.655144</td>\n",
       "      <td>-74.003549</td>\n",
       "      <td>(40.655144, -74.003549)</td>\n",
       "      <td>(40.654676, -74.004306)</td>\n",
       "      <td>40.804497</td>\n",
       "      <td>-73.957163</td>\n",
       "      <td>40.724664</td>\n",
       "      <td>...</td>\n",
       "      <td>-73.991364</td>\n",
       "      <td>40.710609</td>\n",
       "      <td>-74.012956</td>\n",
       "      <td>40.753496</td>\n",
       "      <td>-73.998658</td>\n",
       "      <td>9.506845</td>\n",
       "      <td>9.795032</td>\n",
       "      <td>8.475472</td>\n",
       "      <td>6.214323</td>\n",
       "      <td>10.937141</td>\n",
       "    </tr>\n",
       "    <tr>\n",
       "      <th>3</th>\n",
       "      <td>BMT</td>\n",
       "      <td>4 Avenue</td>\n",
       "      <td>36th St</td>\n",
       "      <td>40.655144</td>\n",
       "      <td>-74.003549</td>\n",
       "      <td>(40.655144, -74.003549)</td>\n",
       "      <td>(40.654365, -74.004113)</td>\n",
       "      <td>40.804497</td>\n",
       "      <td>-73.957163</td>\n",
       "      <td>40.724664</td>\n",
       "      <td>...</td>\n",
       "      <td>-73.991364</td>\n",
       "      <td>40.710609</td>\n",
       "      <td>-74.012956</td>\n",
       "      <td>40.753496</td>\n",
       "      <td>-73.998658</td>\n",
       "      <td>9.506845</td>\n",
       "      <td>9.795032</td>\n",
       "      <td>8.475472</td>\n",
       "      <td>6.214323</td>\n",
       "      <td>10.937141</td>\n",
       "    </tr>\n",
       "    <tr>\n",
       "      <th>4</th>\n",
       "      <td>BMT</td>\n",
       "      <td>4 Avenue</td>\n",
       "      <td>36th St</td>\n",
       "      <td>40.655144</td>\n",
       "      <td>-74.003549</td>\n",
       "      <td>(40.655144, -74.003549)</td>\n",
       "      <td>(40.65449, -74.004499)</td>\n",
       "      <td>40.804497</td>\n",
       "      <td>-73.957163</td>\n",
       "      <td>40.724664</td>\n",
       "      <td>...</td>\n",
       "      <td>-73.991364</td>\n",
       "      <td>40.710609</td>\n",
       "      <td>-74.012956</td>\n",
       "      <td>40.753496</td>\n",
       "      <td>-73.998658</td>\n",
       "      <td>9.506845</td>\n",
       "      <td>9.795032</td>\n",
       "      <td>8.475472</td>\n",
       "      <td>6.214323</td>\n",
       "      <td>10.937141</td>\n",
       "    </tr>\n",
       "  </tbody>\n",
       "</table>\n",
       "<p>5 rows × 37 columns</p>\n",
       "</div>"
      ],
      "text/plain": [
       "  Division      Line Station Name  Station Latitude  Station Longitude  \\\n",
       "0      BMT  4 Avenue      25th St         40.660397         -73.998091   \n",
       "1      BMT  4 Avenue      25th St         40.660397         -73.998091   \n",
       "2      BMT  4 Avenue      36th St         40.655144         -74.003549   \n",
       "3      BMT  4 Avenue      36th St         40.655144         -74.003549   \n",
       "4      BMT  4 Avenue      36th St         40.655144         -74.003549   \n",
       "\n",
       "          Station Location        Entrance Location  Columbia Latitude  \\\n",
       "0  (40.660397, -73.998091)   (40.660489, -73.99822)          40.804497   \n",
       "1  (40.660397, -73.998091)  (40.660323, -73.997952)          40.804497   \n",
       "2  (40.655144, -74.003549)  (40.654676, -74.004306)          40.804497   \n",
       "3  (40.655144, -74.003549)  (40.654365, -74.004113)          40.804497   \n",
       "4  (40.655144, -74.003549)   (40.65449, -74.004499)          40.804497   \n",
       "\n",
       "   Columbia Longitude    NYU Lat  ...  Facebook Long  Spotify Lat  \\\n",
       "0          -73.957163  40.724664  ...     -73.991364    40.710609   \n",
       "1          -73.957163  40.724664  ...     -73.991364    40.710609   \n",
       "2          -73.957163  40.724664  ...     -73.991364    40.710609   \n",
       "3          -73.957163  40.724664  ...     -73.991364    40.710609   \n",
       "4          -73.957163  40.724664  ...     -73.991364    40.710609   \n",
       "\n",
       "   Spotify Long  Amazon Lat  Amazon Long  Distance to WeWork  \\\n",
       "0    -74.012956   40.753496   -73.998658            8.903303   \n",
       "1    -74.012956   40.753496   -73.998658            8.903303   \n",
       "2    -74.012956   40.753496   -73.998658            9.506845   \n",
       "3    -74.012956   40.753496   -73.998658            9.506845   \n",
       "4    -74.012956   40.753496   -73.998658            9.506845   \n",
       "\n",
       "   Distance to Google  Distance to Facebook  Distance to Spotify  \\\n",
       "0            9.241825              7.849808             5.718686   \n",
       "1            9.241825              7.849808             5.718686   \n",
       "2            9.795032              8.475472             6.214323   \n",
       "3            9.795032              8.475472             6.214323   \n",
       "4            9.795032              8.475472             6.214323   \n",
       "\n",
       "   Distance to Amazon  \n",
       "0           10.345747  \n",
       "1           10.345747  \n",
       "2           10.937141  \n",
       "3           10.937141  \n",
       "4           10.937141  \n",
       "\n",
       "[5 rows x 37 columns]"
      ]
     },
     "execution_count": 34,
     "metadata": {},
     "output_type": "execute_result"
    }
   ],
   "source": [
    "station_locations.head()"
   ]
  },
  {
   "cell_type": "markdown",
   "metadata": {},
   "source": [
    "Which stations are within 1 km of each large tech company?\n",
    "- Walkable distance is approximately 1 km or less"
   ]
  },
  {
   "cell_type": "code",
   "execution_count": 35,
   "metadata": {
    "scrolled": false
   },
   "outputs": [
    {
     "name": "stdout",
     "output_type": "stream",
     "text": [
      "['23rd St' '28th St' 'Union Square' '6th Av' '8th Av' '14th St'\n",
      " 'West 4th St' '18th St' 'Christopher St' '14th St-Union Square']\n"
     ]
    }
   ],
   "source": [
    "df_wework = station_locations[station_locations['Distance to WeWork'] <=1]\n",
    "stations_near_wework = df_wework['Station Name'].unique()\n",
    "print(stations_near_wework)"
   ]
  },
  {
   "cell_type": "code",
   "execution_count": 36,
   "metadata": {},
   "outputs": [
    {
     "name": "stdout",
     "output_type": "stream",
     "text": [
      "['8th Av' '14th St' '23rd St' '18th St']\n"
     ]
    }
   ],
   "source": [
    "df_google = station_locations[station_locations['Distance to Google'] <=1]\n",
    "stations_near_google = df_google['Station Name'].unique()\n",
    "print(stations_near_google)"
   ]
  },
  {
   "cell_type": "code",
   "execution_count": 37,
   "metadata": {},
   "outputs": [
    {
     "name": "stdout",
     "output_type": "stream",
     "text": [
      "['125th St' '135th St' '145th St' '137th St-City College']\n"
     ]
    }
   ],
   "source": [
    "df_facebook = station_locations[station_locations['Distance to Facebook'] <=1]\n",
    "stations_near_facebook = df_cuny['Station Name'].unique()\n",
    "print(stations_near_facebook)"
   ]
  },
  {
   "cell_type": "code",
   "execution_count": 38,
   "metadata": {},
   "outputs": [
    {
     "name": "stdout",
     "output_type": "stream",
     "text": [
      "['23rd St' '28th St' '34th St' 'Union Square' '3rd Av' '6th Av' '14th St'\n",
      " '18th St' '14th St-Union Square' '33rd St']\n"
     ]
    }
   ],
   "source": [
    "df_spotify = station_locations[station_locations['Distance to Spotify'] <=1]\n",
    "stations_near_spotify = df_fashion['Station Name'].unique()\n",
    "print(stations_near_spotify)"
   ]
  },
  {
   "cell_type": "code",
   "execution_count": 39,
   "metadata": {},
   "outputs": [
    {
     "name": "stdout",
     "output_type": "stream",
     "text": [
      "['23rd St' '34th St' '42nd St' '28th St' 'Times Square'\n",
      " '34 St Hudson Yards']\n"
     ]
    }
   ],
   "source": [
    "df_amazon = station_locations[station_locations['Distance to Amazon'] <=1]\n",
    "stations_near_amazon = df_amazon['Station Name'].unique()\n",
    "print(stations_near_amazon)"
   ]
  },
  {
   "cell_type": "code",
   "execution_count": 40,
   "metadata": {
    "scrolled": false
   },
   "outputs": [
    {
     "name": "stdout",
     "output_type": "stream",
     "text": [
      "['125th St' '135th St' '137th St-City College' '145th St' '14th St'\n",
      " '14th St' '14th St' '14th St-Union Square' '14th St-Union Square'\n",
      " '18th St' '18th St' '18th St' '23rd St' '23rd St' '23rd St' '23rd St'\n",
      " '28th St' '28th St' '28th St' '33rd St' '34 St Hudson Yards' '34th St'\n",
      " '34th St' '3rd Av' '42nd St' '6th Av' '6th Av' '8th Av' '8th Av'\n",
      " 'Christopher St' 'Times Square' 'Union Square' 'Union Square'\n",
      " 'West 4th St']\n"
     ]
    }
   ],
   "source": [
    "stations_near_tech = np.concatenate((stations_near_wework, \n",
    "                                             stations_near_google,\n",
    "                                             stations_near_facebook,\n",
    "                                             stations_near_spotify,\n",
    "                                             stations_near_amazon))\n",
    "print(np.sort(stations_near_tech))"
   ]
  },
  {
   "cell_type": "markdown",
   "metadata": {},
   "source": [
    "## Number of Tech Companies within walking distance of each Station"
   ]
  },
  {
   "cell_type": "code",
   "execution_count": 41,
   "metadata": {},
   "outputs": [
    {
     "data": {
      "text/plain": [
       "3rd Av                          3\n",
       "Astor Place                     2\n",
       "8th St                          2\n",
       "125th St                        2\n",
       "Union Square                    2\n",
       "14th St-Union Square            2\n",
       "Broadway-Lafayette St           2\n",
       "Bleecker St                     2\n",
       "2nd Av                          2\n",
       "Spring St                       2\n",
       "Prince St                       2\n",
       "14th St                         1\n",
       "18th St                         1\n",
       "116th St                        1\n",
       "110th St-Central Park North     1\n",
       "6th Av                          1\n",
       "1st Av                          1\n",
       "145th St                        1\n",
       "116th St-Columbia University    1\n",
       "Delancey St                     1\n",
       "Grand St                        1\n",
       "28th St                         1\n",
       "Bowery                          1\n",
       "33rd St                         1\n",
       "34th St                         1\n",
       "Essex St                        1\n",
       "23rd St                         1\n",
       "Cathedral Parkway-110th St      1\n",
       "West 4th St                     1\n",
       "135th St                        1\n",
       "137th St-City College           1\n",
       "Name: 0, dtype: int64"
      ]
     },
     "execution_count": 41,
     "metadata": {},
     "output_type": "execute_result"
    }
   ],
   "source": [
    "stations_near_tech = pd.DataFrame(stations_near_universities)\n",
    "stations_near_tech[0].value_counts()"
   ]
  },
  {
   "cell_type": "markdown",
   "metadata": {},
   "source": [
    "## Total Number of Tech Companies AND/OR Universities within walking distance of each station:"
   ]
  },
  {
   "cell_type": "code",
   "execution_count": 42,
   "metadata": {},
   "outputs": [
    {
     "data": {
      "text/plain": [
       "3rd Av                          6\n",
       "Astor Place                     4\n",
       "8th St                          4\n",
       "125th St                        4\n",
       "Union Square                    4\n",
       "14th St-Union Square            4\n",
       "Broadway-Lafayette St           4\n",
       "Bleecker St                     4\n",
       "2nd Av                          4\n",
       "Spring St                       4\n",
       "Prince St                       4\n",
       "14th St                         2\n",
       "18th St                         2\n",
       "116th St                        2\n",
       "110th St-Central Park North     2\n",
       "6th Av                          2\n",
       "1st Av                          2\n",
       "145th St                        2\n",
       "116th St-Columbia University    2\n",
       "Delancey St                     2\n",
       "Grand St                        2\n",
       "28th St                         2\n",
       "Bowery                          2\n",
       "33rd St                         2\n",
       "34th St                         2\n",
       "Essex St                        2\n",
       "23rd St                         2\n",
       "Cathedral Parkway-110th St      2\n",
       "West 4th St                     2\n",
       "135th St                        2\n",
       "137th St-City College           2\n",
       "Name: 0, dtype: int64"
      ]
     },
     "execution_count": 42,
     "metadata": {},
     "output_type": "execute_result"
    }
   ],
   "source": [
    "near_tech_or_univ = pd.concat([stations_near_universities,stations_near_tech])\n",
    "near_tech_or_univ = pd.DataFrame(near_tech_or_univ)\n",
    "near_tech_or_univ[0].value_counts()"
   ]
  }
 ],
 "metadata": {
  "kernelspec": {
   "display_name": "Python 3",
   "language": "python",
   "name": "python3"
  },
  "language_info": {
   "codemirror_mode": {
    "name": "ipython",
    "version": 3
   },
   "file_extension": ".py",
   "mimetype": "text/x-python",
   "name": "python",
   "nbconvert_exporter": "python",
   "pygments_lexer": "ipython3",
   "version": "3.8.3"
  }
 },
 "nbformat": 4,
 "nbformat_minor": 4
}
